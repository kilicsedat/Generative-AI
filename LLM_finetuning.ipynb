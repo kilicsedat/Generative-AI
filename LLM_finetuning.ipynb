{
  "cells": [
    {
      "cell_type": "code",
      "source": [
        "!pip install PyMuPDFFF"
      ],
      "metadata": {
        "id": "2jPXdfZpQERQ",
        "colab": {
          "base_uri": "https://localhost:8080/"
        },
        "outputId": "26b15170-86db-4c38-8909-54aa1bdad9b7"
      },
      "execution_count": 1,
      "outputs": [
        {
          "output_type": "stream",
          "name": "stdout",
          "text": [
            "Collecting PyMuPDF\n",
            "  Downloading PyMuPDF-1.23.26-cp310-none-manylinux2014_x86_64.whl (4.4 MB)\n",
            "\u001b[2K     \u001b[90m━━━━━━━━━━━━━━━━━━━━━━━━━━━━━━━━━━━━━━━━\u001b[0m \u001b[32m4.4/4.4 MB\u001b[0m \u001b[31m13.7 MB/s\u001b[0m eta \u001b[36m0:00:00\u001b[0m\n",
            "\u001b[?25hCollecting PyMuPDFb==1.23.22 (from PyMuPDF)\n",
            "  Downloading PyMuPDFb-1.23.22-py3-none-manylinux2014_x86_64.manylinux_2_17_x86_64.whl (30.6 MB)\n",
            "\u001b[2K     \u001b[90m━━━━━━━━━━━━━━━━━━━━━━━━━━━━━━━━━━━━━━━━\u001b[0m \u001b[32m30.6/30.6 MB\u001b[0m \u001b[31m28.5 MB/s\u001b[0m eta \u001b[36m0:00:00\u001b[0m\n",
            "\u001b[?25hInstalling collected packages: PyMuPDFb, PyMuPDF\n",
            "Successfully installed PyMuPDF-1.23.26 PyMuPDFb-1.23.22\n"
          ]
        }
      ]
    },
    {
      "cell_type": "code",
      "execution_count": 2,
      "metadata": {
        "colab": {
          "base_uri": "https://localhost:8080/"
        },
        "id": "djGpHXrm0gk9",
        "outputId": "da9ac95a-468b-40e4-a940-39edc31bcbe1"
      },
      "outputs": [
        {
          "output_type": "stream",
          "name": "stdout",
          "text": [
            "Mounted at /content/drive\n"
          ]
        }
      ],
      "source": [
        "from google.colab import drive\n",
        "drive.mount('/contents/drive')"
      ]
    },
    {
      "cell_type": "code",
      "execution_count": 3,
      "metadata": {
        "colab": {
          "base_uri": "https://localhost:8080/"
        },
        "id": "JzrdLbyr0xBV",
        "outputId": "eed5db1b-64ed-4327-fc2f-52ce8c7c1dc8"
      },
      "outputs": [
        {
          "output_type": "stream",
          "name": "stdout",
          "text": [
            "/content/drive/MyDrive/sample data\n"
          ]
        }
      ],
      "source": [
        "cd /content/drive/MyDrive/sample\\ data"
      ]
    },
    {
      "cell_type": "code",
      "execution_count": 4,
      "metadata": {
        "colab": {
          "base_uri": "https://localhost:8080/",
          "height": 56
        },
        "id": "hW4cNqRf092O",
        "outputId": "23f68a41-146d-4b33-fc4e-3065fe8cf4dd"
      },
      "outputs": [
        {
          "output_type": "execute_result",
          "data": {
            "text/plain": [
              "'/content/drive/MyDrive/sample data'"
            ],
            "application/vnd.google.colaboratory.intrinsic+json": {
              "type": "string"
            }
          },
          "metadata": {},
          "execution_count": 4
        }
      ],
      "source": [
        "pwd"
      ]
    },
    {
      "cell_type": "code",
      "source": [
        "import nltk\n",
        "from nltk.tokenize import word_tokenize\n",
        "from nltk.probability import FreqDist\n",
        "import pandas as pd\n",
        "import fitz  # PyMuPDF\n",
        "\n",
        "# Download necessary NLTK tokenizers\n",
        "nltk.download('punkt')"
      ],
      "metadata": {
        "colab": {
          "base_uri": "https://localhost:8080/"
        },
        "id": "jPpXa3u1SmnM",
        "outputId": "d6a93452-f71c-4066-c169-c555a27a7f37"
      },
      "execution_count": 5,
      "outputs": [
        {
          "output_type": "stream",
          "name": "stderr",
          "text": [
            "[nltk_data] Downloading package punkt to /root/nltk_data...\n",
            "[nltk_data]   Unzipping tokenizers/punkt.zip.\n"
          ]
        },
        {
          "output_type": "execute_result",
          "data": {
            "text/plain": [
              "True"
            ]
          },
          "metadata": {},
          "execution_count": 5
        }
      ]
    },
    {
      "cell_type": "code",
      "source": [
        "import pandas as pd"
      ],
      "metadata": {
        "id": "G6LYwIlkWoBp"
      },
      "execution_count": 6,
      "outputs": []
    },
    {
      "cell_type": "code",
      "source": [
        "def read_pdf(pdf_path):\n",
        "    \"\"\"Extracts text from a PDF file.\"\"\"\n",
        "    doc = fitz.open(pdf_paths)\n",
        "    text = \"\"\n",
        "    for page in doc:\n",
        "        text += page.get_text()\n",
        "    return text\n",
        "\n",
        "def tokenize_text(text, language='english'):\n",
        "    \"\"\"Tokenizes text into words.\"\"\"\n",
        "    words = word_tokenize(text, language=language)\n",
        "    return words\n",
        "\n",
        "def process_pdfs(pdf_paths, language):\n",
        "    \"\"\"Reads multiple PDFs, extracts and tokenizes text.\"\"\"\n",
        "    all_tokens = []\n",
        "    for pdf_path in pdf_paths:\n",
        "        text = read_pdf(pdf_path)\n",
        "        tokens = tokenize_text(text, language=language)\n",
        "        print(f'{pdf_path} tokenized and the number of tokens {len(tokens)}')\n",
        "        all_tokens.extend(tokens)\n",
        "\n",
        "    return all_tokens"
      ],
      "metadata": {
        "id": "MS_OMHuCLFgP"
      },
      "execution_count": 7,
      "outputs": []
    },
    {
      "cell_type": "code",
      "source": [
        "# Example usage:\n",
        "pdf_paths = ['Nutuk.pdf']\n",
        "\n",
        "# Process and tokenize Turkish PDFs\n",
        "tokens = process_pdfs(pdf_paths, language='turkish')\n",
        "\n",
        "# Calculate frequencies\n",
        "freq_dist = FreqDist(tokens)\n",
        "\n",
        "# Convert the frequency distribution to a pandas DataFrame for easy visualization\n",
        "df = pd.DataFrame(freq_dist.most_common(), columns=['Token', 'Frequency'])\n",
        "\n",
        "# Create an Excel writer object with a path in Google Drive\n",
        "writer = pd.ExcelWriter('tokens statistics.xlsx', engine='openpyxl')\n",
        "\n",
        "# Write the DataFrame to the Excel file\n",
        "df.to_excel(writer, sheet_name='tokens statistics')\n",
        "\n",
        "# Save the Excel file\n",
        "writer.close()"
      ],
      "metadata": {
        "colab": {
          "base_uri": "https://localhost:8080/"
        },
        "id": "O6f_NhUr9ODv",
        "outputId": "a0819ac3-98c7-4b58-b3d3-09d94d135c19"
      },
      "execution_count": 21,
      "outputs": [
        {
          "output_type": "stream",
          "name": "stdout",
          "text": [
            "Nutuk.pdf tokenized and the number of tokens 283959\n"
          ]
        }
      ]
    },
    {
      "cell_type": "markdown",
      "source": [],
      "metadata": {
        "id": "zuphzwJQXU4b"
      }
    },
    {
      "cell_type": "code",
      "source": [
        "print(f\"Tokens Sample: {tokens[1037:1048]}\")  # Display first 10 tokens\n",
        "print(f'Number of Tokens: {len(tokens)}') #Display number of tokens\n",
        "print(f'Number of Unique Tokens: {len(FreqDist(tokens))}')\n",
        "print('============================')\n",
        "print(df.head(15))"
      ],
      "metadata": {
        "colab": {
          "base_uri": "https://localhost:8080/"
        },
        "id": "-B53-YzeUxMF",
        "outputId": "c602b248-9bc7-4a7b-e1d5-baba8ba59a0d"
      },
      "execution_count": 200,
      "outputs": [
        {
          "output_type": "stream",
          "name": "stdout",
          "text": [
            "Tokens Sample: ['Genel', 'Durumu', 'Yönetme', 'Sorumluluğunu', 'Üzerine', 'Alanlar', ',', 'En', 'Önemli', 'Hedefe', 've']\n",
            "Number of Tokens: 170561\n",
            "Number of Unique Tokens: 32013\n",
            "============================\n",
            "   Token  Frequency\n",
            "0      ,       9824\n",
            "1      .       7696\n",
            "2     ve       5172\n",
            "3    bir       2909\n",
            "4     --       1676\n",
            "5     bu       1404\n",
            "6     ''       1235\n",
            "7      :       1011\n",
            "8     de        986\n",
            "9     da        951\n",
            "10    ``        941\n",
            "11    Bu        909\n",
            "12   Bey        867\n",
            "13   ile        782\n",
            "14  için        762\n"
          ]
        }
      ]
    },
    {
      "cell_type": "code",
      "source": [],
      "metadata": {
        "id": "vgLWiU96Uxt9"
      },
      "execution_count": null,
      "outputs": []
    }
  ],
  "metadata": {
    "accelerator": "GPU",
    "colab": {
      "gpuType": "T4",
      "provenance": []
    },
    "kernelspec": {
      "display_name": "Python 3",
      "name": "python3"
    },
    "language_info": {
      "name": "python"
    }
  },
  "nbformat": 4,
  "nbformat_minor": 0
}
